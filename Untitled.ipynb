{
 "cells": [
  {
   "cell_type": "code",
   "execution_count": 7,
   "metadata": {},
   "outputs": [],
   "source": [
    "import numpy as np\n",
    "import pandas as pd\n",
    "from matplotlib import pyplot as plt\n",
    "import seaborn as sns\n",
    "%matplotlib inline\n",
    "import nltk"
   ]
  },
  {
   "cell_type": "code",
   "execution_count": 5,
   "metadata": {},
   "outputs": [],
   "source": [
    "aot_reviews = pd.read_csv('datasets/Attack-on-Titan.csv', index_col=0)"
   ]
  },
  {
   "cell_type": "code",
   "execution_count": 8,
   "metadata": {},
   "outputs": [
    {
     "data": {
      "text/html": [
       "<div>\n",
       "<style scoped>\n",
       "    .dataframe tbody tr th:only-of-type {\n",
       "        vertical-align: middle;\n",
       "    }\n",
       "\n",
       "    .dataframe tbody tr th {\n",
       "        vertical-align: top;\n",
       "    }\n",
       "\n",
       "    .dataframe thead th {\n",
       "        text-align: right;\n",
       "    }\n",
       "</style>\n",
       "<table border=\"1\" class=\"dataframe\">\n",
       "  <thead>\n",
       "    <tr style=\"text-align: right;\">\n",
       "      <th></th>\n",
       "      <th>star</th>\n",
       "      <th>title</th>\n",
       "      <th>date</th>\n",
       "      <th>number_of_votes</th>\n",
       "      <th>number_of_votes_helpful</th>\n",
       "      <th>content</th>\n",
       "    </tr>\n",
       "  </thead>\n",
       "  <tbody>\n",
       "    <tr>\n",
       "      <th>0</th>\n",
       "      <td>10.0</td>\n",
       "      <td>Masterpiece. I've never witnessed this level o...</td>\n",
       "      <td>2019-06-19</td>\n",
       "      <td>394.0</td>\n",
       "      <td>379.0</td>\n",
       "      <td>The moment you watch this audiovisual masterpi...</td>\n",
       "    </tr>\n",
       "    <tr>\n",
       "      <th>1</th>\n",
       "      <td>10.0</td>\n",
       "      <td>Nearly perfect</td>\n",
       "      <td>2019-12-17</td>\n",
       "      <td>176.0</td>\n",
       "      <td>171.0</td>\n",
       "      <td>Before I started watching this show, I couldn'...</td>\n",
       "    </tr>\n",
       "    <tr>\n",
       "      <th>2</th>\n",
       "      <td>10.0</td>\n",
       "      <td>Season 4, what can we expect?</td>\n",
       "      <td>2020-01-04</td>\n",
       "      <td>68.0</td>\n",
       "      <td>67.0</td>\n",
       "      <td>A lot of people have this question, can season...</td>\n",
       "    </tr>\n",
       "    <tr>\n",
       "      <th>3</th>\n",
       "      <td>10.0</td>\n",
       "      <td>Next 12 episodes of season 3 will be AMAZING</td>\n",
       "      <td>2018-10-17</td>\n",
       "      <td>420.0</td>\n",
       "      <td>392.0</td>\n",
       "      <td>The best part of the series is coming in april...</td>\n",
       "    </tr>\n",
       "    <tr>\n",
       "      <th>4</th>\n",
       "      <td>10.0</td>\n",
       "      <td>Shinzou wo sasageyo! Devote your heart!</td>\n",
       "      <td>2019-06-08</td>\n",
       "      <td>100.0</td>\n",
       "      <td>96.0</td>\n",
       "      <td>I'm not an expert of anime. I haven't even rea...</td>\n",
       "    </tr>\n",
       "  </tbody>\n",
       "</table>\n",
       "</div>"
      ],
      "text/plain": [
       "   star                                              title        date  \\\n",
       "0  10.0  Masterpiece. I've never witnessed this level o...  2019-06-19   \n",
       "1  10.0                                     Nearly perfect  2019-12-17   \n",
       "2  10.0                      Season 4, what can we expect?  2020-01-04   \n",
       "3  10.0       Next 12 episodes of season 3 will be AMAZING  2018-10-17   \n",
       "4  10.0            Shinzou wo sasageyo! Devote your heart!  2019-06-08   \n",
       "\n",
       "   number_of_votes  number_of_votes_helpful  \\\n",
       "0            394.0                    379.0   \n",
       "1            176.0                    171.0   \n",
       "2             68.0                     67.0   \n",
       "3            420.0                    392.0   \n",
       "4            100.0                     96.0   \n",
       "\n",
       "                                             content  \n",
       "0  The moment you watch this audiovisual masterpi...  \n",
       "1  Before I started watching this show, I couldn'...  \n",
       "2  A lot of people have this question, can season...  \n",
       "3  The best part of the series is coming in april...  \n",
       "4  I'm not an expert of anime. I haven't even rea...  "
      ]
     },
     "execution_count": 8,
     "metadata": {},
     "output_type": "execute_result"
    }
   ],
   "source": [
    "aot_reviews.head(5)"
   ]
  },
  {
   "cell_type": "code",
   "execution_count": null,
   "metadata": {},
   "outputs": [],
   "source": []
  }
 ],
 "metadata": {
  "kernelspec": {
   "display_name": "Python 3",
   "language": "python",
   "name": "python3"
  },
  "language_info": {
   "codemirror_mode": {
    "name": "ipython",
    "version": 3
   },
   "file_extension": ".py",
   "mimetype": "text/x-python",
   "name": "python",
   "nbconvert_exporter": "python",
   "pygments_lexer": "ipython3",
   "version": "3.7.6"
  }
 },
 "nbformat": 4,
 "nbformat_minor": 4
}
